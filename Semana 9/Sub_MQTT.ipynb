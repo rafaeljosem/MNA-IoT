{
 "cells": [
  {
   "cell_type": "code",
   "execution_count": 10,
   "metadata": {},
   "outputs": [],
   "source": [
    "import paho.mqtt.client as mqttClient\n",
    "import time"
   ]
  },
  {
   "cell_type": "code",
   "execution_count": 11,
   "metadata": {},
   "outputs": [
    {
     "name": "stdout",
     "output_type": "stream",
     "text": [
      "Conectado al broker\n",
      "mensaje /MNA/IoT/Equipo8/Humedad:b'{\"Humedad\": 27.1}'\n",
      "mensaje /MNA/IoT/Equipo8/CO2:b'{\"Dioxido de carbono\": 557.0}'\n",
      "mensaje /MNA/IoT/Equipo8/Humedad:b'{\"Humedad\": 21.29}'\n",
      "mensaje /MNA/IoT/Equipo8/CO2:b'{\"Dioxido de carbono\": 435.5}'\n",
      "mensaje /MNA/IoT/Equipo8/Humedad:b'{\"Humedad\": 22.79}'\n",
      "mensaje /MNA/IoT/Equipo8/CO2:b'{\"Dioxido de carbono\": 455.5}'\n",
      "mensaje /MNA/IoT/Equipo8/Humedad:b'{\"Humedad\": 33.06}'\n",
      "mensaje /MNA/IoT/Equipo8/CO2:b'{\"Dioxido de carbono\": 452.3333333}'\n",
      "mensaje /MNA/IoT/Equipo8/Humedad:b'{\"Humedad\": 17.0}'\n",
      "mensaje /MNA/IoT/Equipo8/CO2:b'{\"Dioxido de carbono\": 451.0}'\n",
      "mensaje /MNA/IoT/Equipo8/Humedad:b'{\"Humedad\": 33.09}'\n",
      "mensaje /MNA/IoT/Equipo8/CO2:b'{\"Dioxido de carbono\": 572.0}'\n",
      "mensaje /MNA/IoT/Equipo8/Humedad:b'{\"Humedad\": 19.1}'\n",
      "mensaje /MNA/IoT/Equipo8/CO2:b'{\"Dioxido de carbono\": 433.0}'\n",
      "mensaje /MNA/IoT/Equipo8/Humedad:b'{\"Humedad\": 3174.0}'\n",
      "mensaje /MNA/IoT/Equipo8/CO2:b'{\"Dioxido de carbono\": 461.0}'\n"
     ]
    }
   ],
   "source": [
    "def on_connect(client,userdata,flags,rc):\n",
    "    \"\"\"Función que establece la conexión\n",
    "    \n",
    "    \"\"\"\n",
    "    if rc==0:\n",
    "        print(\"Conectado al broker\")\n",
    "        global Connected\n",
    "        Connected = True\n",
    "    else:\n",
    "        print(\"Falla en la conexión al broker\")\n",
    "    return\n",
    "\n",
    "def on_message(client,userdata,message):\n",
    "    \"\"\"función que recibe mensajes\n",
    "    \n",
    "    \"\"\"\n",
    "    print(\"mensaje {}:{}\".format(message.topic,message.payload))\n",
    "    return\n",
    "\n",
    "Connected = False\n",
    "broker_address=\"broker.hivemq.com\"#\"8.tcp.ngrok.io\" # \"broker.hivemq.com\"  #broker público\n",
    "port=1883#12105 #1883  # puerto por defecto\n",
    "tag=\"/MNA/IoT/Equipo8/#\"  # el numeral (#) sirve para indicar que queremos ver todo lo que está asociado a IoT\n",
    "\n",
    "client = mqttClient.Client(\"suscriptor\")\n",
    "client.on_connect = on_connect\n",
    "client.on_message = on_message\n",
    "client.connect(broker_address,port)\n",
    "client.loop_start() #inicializar\n",
    "\n",
    "while Connected != True:\n",
    "    time.sleep(0.2)\n",
    "    client.subscribe(tag)\n",
    "    \n",
    "    try:\n",
    "        while True:\n",
    "            time.sleep(1)\n",
    "    except KeyboardInterrupt:\n",
    "        print(\"Recepción detenida por el usuario\")\n",
    "        client.disconnect()\n",
    "        client.loop_stop()"
   ]
  },
  {
   "cell_type": "code",
   "execution_count": null,
   "metadata": {},
   "outputs": [],
   "source": []
  },
  {
   "cell_type": "code",
   "execution_count": null,
   "metadata": {},
   "outputs": [],
   "source": []
  },
  {
   "cell_type": "code",
   "execution_count": null,
   "metadata": {},
   "outputs": [],
   "source": []
  },
  {
   "cell_type": "code",
   "execution_count": null,
   "metadata": {},
   "outputs": [],
   "source": []
  },
  {
   "cell_type": "code",
   "execution_count": null,
   "metadata": {},
   "outputs": [],
   "source": []
  },
  {
   "cell_type": "code",
   "execution_count": null,
   "metadata": {},
   "outputs": [],
   "source": []
  },
  {
   "cell_type": "code",
   "execution_count": null,
   "metadata": {},
   "outputs": [],
   "source": []
  }
 ],
 "metadata": {
  "kernelspec": {
   "display_name": "Python 3",
   "language": "python",
   "name": "python3"
  },
  "language_info": {
   "codemirror_mode": {
    "name": "ipython",
    "version": 3
   },
   "file_extension": ".py",
   "mimetype": "text/x-python",
   "name": "python",
   "nbconvert_exporter": "python",
   "pygments_lexer": "ipython3",
   "version": "3.11.3"
  }
 },
 "nbformat": 4,
 "nbformat_minor": 2
}
