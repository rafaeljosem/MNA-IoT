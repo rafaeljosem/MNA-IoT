{
 "cells": [
  {
   "cell_type": "code",
   "execution_count": 22,
   "metadata": {},
   "outputs": [],
   "source": [
    "#importación de librerías\n",
    "import pandas as pd\n",
    "import time\n",
    "import paho.mqtt.client as mqttClient\n",
    "import json"
   ]
  },
  {
   "cell_type": "code",
   "execution_count": 23,
   "metadata": {},
   "outputs": [
    {
     "data": {
      "text/html": [
       "<div>\n",
       "<style scoped>\n",
       "    .dataframe tbody tr th:only-of-type {\n",
       "        vertical-align: middle;\n",
       "    }\n",
       "\n",
       "    .dataframe tbody tr th {\n",
       "        vertical-align: top;\n",
       "    }\n",
       "\n",
       "    .dataframe thead th {\n",
       "        text-align: right;\n",
       "    }\n",
       "</style>\n",
       "<table border=\"1\" class=\"dataframe\">\n",
       "  <thead>\n",
       "    <tr style=\"text-align: right;\">\n",
       "      <th></th>\n",
       "      <th>Temperature</th>\n",
       "      <th>Humidity</th>\n",
       "      <th>Light</th>\n",
       "      <th>CO2</th>\n",
       "      <th>HumidityRatio</th>\n",
       "    </tr>\n",
       "  </thead>\n",
       "  <tbody>\n",
       "    <tr>\n",
       "      <th>0</th>\n",
       "      <td>22.00</td>\n",
       "      <td>27.10</td>\n",
       "      <td>0.00</td>\n",
       "      <td>557.000000</td>\n",
       "      <td>0.004431</td>\n",
       "    </tr>\n",
       "    <tr>\n",
       "      <th>1</th>\n",
       "      <td>20.50</td>\n",
       "      <td>21.29</td>\n",
       "      <td>0.00</td>\n",
       "      <td>435.500000</td>\n",
       "      <td>0.003168</td>\n",
       "    </tr>\n",
       "    <tr>\n",
       "      <th>2</th>\n",
       "      <td>20.70</td>\n",
       "      <td>22.79</td>\n",
       "      <td>0.00</td>\n",
       "      <td>455.500000</td>\n",
       "      <td>0.003435</td>\n",
       "    </tr>\n",
       "    <tr>\n",
       "      <th>3</th>\n",
       "      <td>20.26</td>\n",
       "      <td>33.06</td>\n",
       "      <td>0.00</td>\n",
       "      <td>452.333333</td>\n",
       "      <td>0.004861</td>\n",
       "    </tr>\n",
       "    <tr>\n",
       "      <th>4</th>\n",
       "      <td>23.10</td>\n",
       "      <td>17.00</td>\n",
       "      <td>283.25</td>\n",
       "      <td>451.000000</td>\n",
       "      <td>0.002965</td>\n",
       "    </tr>\n",
       "  </tbody>\n",
       "</table>\n",
       "</div>"
      ],
      "text/plain": [
       "   Temperature  Humidity   Light         CO2  HumidityRatio\n",
       "0        22.00     27.10    0.00  557.000000       0.004431\n",
       "1        20.50     21.29    0.00  435.500000       0.003168\n",
       "2        20.70     22.79    0.00  455.500000       0.003435\n",
       "3        20.26     33.06    0.00  452.333333       0.004861\n",
       "4        23.10     17.00  283.25  451.000000       0.002965"
      ]
     },
     "execution_count": 23,
     "metadata": {},
     "output_type": "execute_result"
    }
   ],
   "source": [
    "dataframe=pd.read_csv(\"./DatosPruebaMQTT.csv\",index_col=0)\n",
    "dataframe.head()"
   ]
  },
  {
   "cell_type": "code",
   "execution_count": 24,
   "metadata": {},
   "outputs": [
    {
     "data": {
      "text/plain": [
       "pandas.core.frame.DataFrame"
      ]
     },
     "execution_count": 24,
     "metadata": {},
     "output_type": "execute_result"
    }
   ],
   "source": [
    "type(dataframe)"
   ]
  },
  {
   "cell_type": "code",
   "execution_count": 25,
   "metadata": {},
   "outputs": [],
   "source": [
    "df=dataframe.dropna() #quita valores NaN que pudieran estar en el archivo"
   ]
  },
  {
   "cell_type": "code",
   "execution_count": 26,
   "metadata": {},
   "outputs": [],
   "source": [
    "temp=df.Temperature.tolist()\n",
    "hum=df.Humidity.tolist()\n",
    "co=df.CO2.tolist()"
   ]
  },
  {
   "cell_type": "code",
   "execution_count": 27,
   "metadata": {},
   "outputs": [
    {
     "name": "stdout",
     "output_type": "stream",
     "text": [
      "Conectado al broker\n",
      "/IoT/Equipo8/Temperatura {\"Temperatura\": 22.0} \n",
      " /MNA/IoT/Equipo8/Humedad {\"Humedad\": 27.1} \n",
      " /MNA/IoT/Equipo8/CO2 {\"Dioxido de carbono\": 557.0}\n",
      "/IoT/Equipo8/Temperatura {\"Temperatura\": 20.5} \n",
      " /MNA/IoT/Equipo8/Humedad {\"Humedad\": 21.29} \n",
      " /MNA/IoT/Equipo8/CO2 {\"Dioxido de carbono\": 435.5}\n",
      "/IoT/Equipo8/Temperatura {\"Temperatura\": 20.7} \n",
      " /MNA/IoT/Equipo8/Humedad {\"Humedad\": 22.79} \n",
      " /MNA/IoT/Equipo8/CO2 {\"Dioxido de carbono\": 455.5}\n",
      "/IoT/Equipo8/Temperatura {\"Temperatura\": 20.26} \n",
      " /MNA/IoT/Equipo8/Humedad {\"Humedad\": 33.06} \n",
      " /MNA/IoT/Equipo8/CO2 {\"Dioxido de carbono\": 452.3333333}\n",
      "/IoT/Equipo8/Temperatura {\"Temperatura\": 23.1} \n",
      " /MNA/IoT/Equipo8/Humedad {\"Humedad\": 17.0} \n",
      " /MNA/IoT/Equipo8/CO2 {\"Dioxido de carbono\": 451.0}\n",
      "/IoT/Equipo8/Temperatura {\"Temperatura\": 20.5} \n",
      " /MNA/IoT/Equipo8/Humedad {\"Humedad\": 33.09} \n",
      " /MNA/IoT/Equipo8/CO2 {\"Dioxido de carbono\": 572.0}\n",
      "/IoT/Equipo8/Temperatura {\"Temperatura\": 19.89} \n",
      " /MNA/IoT/Equipo8/Humedad {\"Humedad\": 19.1} \n",
      " /MNA/IoT/Equipo8/CO2 {\"Dioxido de carbono\": 433.0}\n",
      "/IoT/Equipo8/Temperatura {\"Temperatura\": 19.39} \n",
      " /MNA/IoT/Equipo8/Humedad {\"Humedad\": 3174.0} \n",
      " /MNA/IoT/Equipo8/CO2 {\"Dioxido de carbono\": 461.0}\n",
      "Envío de datos suspendido por el usuario\n"
     ]
    }
   ],
   "source": [
    "def on_connect(client,userdata,flags,rc):\n",
    "    \"\"\"Función que establece la conexión\n",
    "    \n",
    "    \"\"\"\n",
    "    if rc==0:\n",
    "        print(\"Conectado al broker\")\n",
    "        global Connected\n",
    "        Connected = True\n",
    "    else:\n",
    "        print(\"Falla en la conexión al broker\")\n",
    "    return\n",
    "\n",
    "Connected = False\n",
    "broker_address= \"broker.hivemq.com\"#\"8.tcp.ngrok.io\" # \"broker.hivemq.com\" #broker público\n",
    "port=1883#12105 #1883 # puerto por defecto\n",
    "tag1=\"/IoT/Equipo8/Temperatura\"  # es el tópico o tag a donde se va a asociar la información\n",
    "tag2=\"/MNA/IoT/Equipo8/Humedad\"\n",
    "tag3=\"/MNA/IoT/Equipo8/CO2\"\n",
    "\n",
    "#tag=\"/FEMSA/Cuautitlan/+/estacion3/posicion\"\n",
    "\n",
    "client = mqttClient.Client(\"publicador\")\n",
    "client.on_connect = on_connect\n",
    "client.connect(broker_address,port)\n",
    "client.loop_start() #inicializar\n",
    "\n",
    "while Connected != True:\n",
    "    time.sleep(0.2)\n",
    "    try:\n",
    "        for i,j,k in zip(temp,hum,co):\n",
    "            val1=json.dumps({\"Temperatura\":i})   #hay mejores formas de hacerlo, se deja así por claridad\n",
    "            val2=json.dumps({\"Humedad\":j})\n",
    "            val3=json.dumps({\"Dioxido de carbono\":k})\n",
    "            print(tag1,val1,\"\\n\",tag2,val2,\"\\n\",tag3,val3)\n",
    "            client.publish(tag1,val1,qos=0)\n",
    "            client.publish(tag2,val2,qos=0)\n",
    "            client.publish(tag3,val3,qos=0)     #hay mejores formas de hacerlo, se deja así por claridad\n",
    "            time.sleep(2)\n",
    "    except KeyboardInterrupt:\n",
    "        print(\"Envío de datos suspendido por el usuario\")\n",
    "        client.disconnect()\n",
    "        client.loop_stop()"
   ]
  },
  {
   "cell_type": "code",
   "execution_count": null,
   "metadata": {},
   "outputs": [],
   "source": []
  },
  {
   "cell_type": "code",
   "execution_count": null,
   "metadata": {},
   "outputs": [],
   "source": []
  }
 ],
 "metadata": {
  "kernelspec": {
   "display_name": "Python 3",
   "language": "python",
   "name": "python3"
  },
  "language_info": {
   "codemirror_mode": {
    "name": "ipython",
    "version": 3
   },
   "file_extension": ".py",
   "mimetype": "text/x-python",
   "name": "python",
   "nbconvert_exporter": "python",
   "pygments_lexer": "ipython3",
   "version": "3.11.3"
  }
 },
 "nbformat": 4,
 "nbformat_minor": 2
}
